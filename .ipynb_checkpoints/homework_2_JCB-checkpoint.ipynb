{
 "cells": [
  {
   "cell_type": "markdown",
   "metadata": {},
   "source": [
    "### Homework Week 02\n",
    "#### Loops, Functions and Classes\n",
    "1. Do this homework **in order**. \n",
    "2. Be sure to have a solid understanding of Functions before working with Classes. "
   ]
  },
  {
   "cell_type": "markdown",
   "metadata": {},
   "source": [
    "1. Iterate through `integers_list` and `print` values that are multiples of 7."
   ]
  },
  {
   "cell_type": "code",
   "execution_count": 1,
   "metadata": {},
   "outputs": [
    {
     "name": "stdout",
     "output_type": "stream",
     "text": [
      "938\n",
      "49\n",
      "497\n",
      "28\n",
      "686\n",
      "882\n",
      "987\n",
      "385\n",
      "182\n"
     ]
    }
   ],
   "source": [
    "import random\n",
    "integers_list = [random.randint(0,1000) for i in range(50)] # a list comprehension\n",
    "\n",
    "# your code here\n",
    "for i in integers_list:\n",
    "    if i % 7 == 0:\n",
    "        print(i)"
   ]
  },
  {
   "cell_type": "markdown",
   "metadata": {},
   "source": [
    "2. Create `list` of 5 colors as `strings` which are all lowercase. \n",
    "Iterate through the `list` and capitalize each color. \n",
    "You should modify the `list` in place. "
   ]
  },
  {
   "cell_type": "code",
   "execution_count": 2,
   "metadata": {},
   "outputs": [
    {
     "name": "stdout",
     "output_type": "stream",
     "text": [
      "['Red', 'Orange', 'Yellow', 'Green', 'Blue']\n"
     ]
    }
   ],
   "source": [
    "colors = ['red', 'orange', 'yellow', 'green', 'blue']\n",
    "colors = [c.capitalize() for c in colors]\n",
    "print(colors)"
   ]
  },
  {
   "cell_type": "markdown",
   "metadata": {},
   "source": [
    "3. Loop through the string and eliminate all the asterisks."
   ]
  },
  {
   "cell_type": "code",
   "execution_count": 3,
   "metadata": {},
   "outputs": [
    {
     "name": "stdout",
     "output_type": "stream",
     "text": [
      "My computer has gone crazy and added extra symbols.\n"
     ]
    }
   ],
   "source": [
    "asterisk = 'My *compu*ter has go*ne craz***y an*d add*ed extra *symbols.*'\n",
    "# your code here\n",
    "no_asterisk = asterisk.replace(\"*\", \"\")\n",
    "\n",
    "print(no_asterisk)"
   ]
  },
  {
   "cell_type": "markdown",
   "metadata": {},
   "source": [
    "4. Write a `while` loop that increments `counter` until it reaches 7."
   ]
  },
  {
   "cell_type": "code",
   "execution_count": 4,
   "metadata": {},
   "outputs": [
    {
     "name": "stdout",
     "output_type": "stream",
     "text": [
      "0\n",
      "1\n",
      "2\n",
      "3\n",
      "4\n",
      "5\n",
      "6\n",
      "7\n"
     ]
    }
   ],
   "source": [
    "counter = 0\n",
    "# your code here\n",
    "while counter < 8:\n",
    "    print(counter)\n",
    "    counter = counter + 1"
   ]
  },
  {
   "cell_type": "markdown",
   "metadata": {},
   "source": [
    "5. Loop over `double_trouble` and eliminate any 'mosquito'."
   ]
  },
  {
   "cell_type": "code",
   "execution_count": 5,
   "metadata": {},
   "outputs": [
    {
     "name": "stdout",
     "output_type": "stream",
     "text": [
      "['cat', 'dog', ['mouse', 'bat'], ['elephant', 'dog', 'whale', 'lion', 32], 'bird', []]\n"
     ]
    }
   ],
   "source": [
    "double_trouble = ['cat', 'dog', ['mouse','mosquito','bat','mosquito'],['elephant','dog','whale','lion',32,'mosquito'],'bird',[],'mosquito']\n",
    "# your code here\n",
    "\n",
    "for bug in double_trouble:\n",
    "    if bug == 'mosquito':\n",
    "        double_trouble.remove(bug)\n",
    "    for list in double_trouble:\n",
    "        for bug in list:\n",
    "            if bug == 'mosquito':\n",
    "                list.remove(bug)\n",
    "        \n",
    "print(double_trouble)"
   ]
  },
  {
   "cell_type": "markdown",
   "metadata": {},
   "source": [
    "6. Loop through the dictionary of phone numbers and correct the parentheses. "
   ]
  },
  {
   "cell_type": "code",
   "execution_count": 20,
   "metadata": {},
   "outputs": [
    {
     "name": "stdout",
     "output_type": "stream",
     "text": [
      "{'Jill': '1-)555(-567-8910', 'Jen': '1-)555(-567-8910', 'Jan': '1-)555(-567-8910', 'Jane': '1-)555(-567-8910', 'Jerri': '1-)555(-567-8910'}\n",
      "{'Jill': '1-)555(-567-8910', 'Jen': '1-)555(-567-8910', 'Jan': '1-)555(-567-8910', 'Jane': '1-)555(-567-8910', 'Jerri': '1-)555(-567-8910'}\n",
      "{'Jill': '1-)555(-567-8910', 'Jen': '1-)555(-567-8910', 'Jan': '1-)555(-567-8910', 'Jane': '1-)555(-567-8910', 'Jerri': '1-)555(-567-8910'}\n",
      "{'Jill': '1-)555(-567-8910', 'Jen': '1-)555(-567-8910', 'Jan': '1-)555(-567-8910', 'Jane': '1-)555(-567-8910', 'Jerri': '1-)555(-567-8910'}\n",
      "{'Jill': '1-)555(-567-8910', 'Jen': '1-)555(-567-8910', 'Jan': '1-)555(-567-8910', 'Jane': '1-)555(-567-8910', 'Jerri': '1-)555(-567-8910'}\n"
     ]
    }
   ],
   "source": [
    "phone_numbers = {'Jill':'1-)555(-567-8910',\n",
    "                'Jen':'1-)555(-567-8910',\n",
    "                'Jan':'1-)555(-567-8910',\n",
    "                'Jane':'1-)555(-567-8910',\n",
    "                'Jerri':'1-)555(-567-8910'}\n",
    "\n",
    "for char in phone_numbers.values():\n",
    "    charstring = str(char)\n",
    "    charstring.replace(')','(')\n",
    "    print(phone_numbers)"
   ]
  },
  {
   "cell_type": "markdown",
   "metadata": {},
   "source": [
    "7. Create a function that takes in two numbers.\n",
    "\n",
    "If the numbers are both even add them and `return` the result.\n",
    "\n",
    "If the numbers are odd, subtract the second number from the first and `return` the result.\n",
    "\n",
    "(Assume you'll always get integers)"
   ]
  },
  {
   "cell_type": "code",
   "execution_count": 6,
   "metadata": {},
   "outputs": [
    {
     "data": {
      "text/plain": [
       "2"
      ]
     },
     "execution_count": 6,
     "metadata": {},
     "output_type": "execute_result"
    }
   ],
   "source": [
    "def funwithfunc(a,b):\n",
    "    if a % 2 == 0 and b % 2 == 0:\n",
    "        return a + b\n",
    "    if a % 2 != 0 or b % 2 != 0:\n",
    "        return a - b \n",
    "    \n",
    "funwithfunc(3,1)"
   ]
  },
  {
   "cell_type": "markdown",
   "metadata": {},
   "source": [
    "8. Create a function that takes in a `string` and removes all non-alphanumeric characters."
   ]
  },
  {
   "cell_type": "code",
   "execution_count": 7,
   "metadata": {},
   "outputs": [
    {
     "data": {
      "text/plain": [
       "'happyyouknowit123'"
      ]
     },
     "execution_count": 7,
     "metadata": {},
     "output_type": "execute_result"
    }
   ],
   "source": [
    "def filternonalphanum(somestring):\n",
    "    new_value = filter(str.isalnum,somestring)\n",
    "    new_string = \"\".join(new_value)\n",
    "    return new_string\n",
    "        \n",
    "filternonalphanum('happy&youknowit123!!!')"
   ]
  },
  {
   "cell_type": "code",
   "execution_count": 6,
   "metadata": {},
   "outputs": [
    {
     "data": {
      "text/plain": [
       "'thisstringhassomeweirdvalues02'"
      ]
     },
     "execution_count": 6,
     "metadata": {},
     "output_type": "execute_result"
    }
   ],
   "source": [
    "character(\"this string has %^&! some weird values02\")"
   ]
  },
  {
   "cell_type": "markdown",
   "metadata": {},
   "source": [
    "9. Create a function to convert Celsius to Farenheight and print the result. \n",
    "\n",
    "Bonus(Optional): Include the degree symbol in the output."
   ]
  },
  {
   "cell_type": "code",
   "execution_count": 8,
   "metadata": {},
   "outputs": [
    {
     "name": "stdout",
     "output_type": "stream",
     "text": [
      "degrees celsius: 20\n",
      "68.0\n"
     ]
    }
   ],
   "source": [
    "degrees_c = float(input(\"degrees celsius: \"))\n",
    "degrees_f = (degrees_c * 9/5) + 32\n",
    "print(degrees_f)"
   ]
  },
  {
   "cell_type": "markdown",
   "metadata": {},
   "source": [
    "10. Create a function that prints the fibonacci sequence from 0 to 25. "
   ]
  },
  {
   "cell_type": "code",
   "execution_count": 9,
   "metadata": {},
   "outputs": [
    {
     "name": "stdout",
     "output_type": "stream",
     "text": [
      "0\n",
      "1\n",
      "1\n",
      "2\n",
      "3\n",
      "5\n",
      "8\n",
      "13\n",
      "21\n",
      "34\n",
      "55\n",
      "89\n",
      "144\n",
      "233\n",
      "377\n",
      "610\n",
      "987\n",
      "1597\n",
      "2584\n",
      "4181\n",
      "6765\n",
      "10946\n",
      "17711\n",
      "28657\n",
      "46368\n"
     ]
    }
   ],
   "source": [
    "def fib_seq(x):\n",
    "    a = 0\n",
    "    b = 1\n",
    "    print(a)\n",
    "    print(b)\n",
    "    for r in range(2,x):\n",
    "        c = a + b\n",
    "        a = b\n",
    "        b = c\n",
    "        print(c)\n",
    "        \n",
    "fib_seq(25)"
   ]
  },
  {
   "cell_type": "markdown",
   "metadata": {},
   "source": [
    "11. Create two functions. One function that accepts args `a` and `b` and returns `a + b`. \n",
    "\n",
    "Create a second function that accepts the first function as the 3rd argument as well as a and b.\n"
   ]
  },
  {
   "cell_type": "code",
   "execution_count": 10,
   "metadata": {},
   "outputs": [
    {
     "name": "stdout",
     "output_type": "stream",
     "text": [
      "25\n"
     ]
    }
   ],
   "source": [
    "# you do the first function\n",
    "def some_function(a,b):\n",
    "    return a + b\n",
    "\n",
    "\n",
    "# second function\n",
    "# Here's some starter code to avoid confusion.\n",
    "# Functions can be passed around like any other object. \n",
    "def second_function(a,b,some_function):\n",
    "    return some_function(a,b) * a + b\n",
    "\n",
    "print(second_function(3,4,some_function))"
   ]
  },
  {
   "cell_type": "code",
   "execution_count": null,
   "metadata": {},
   "outputs": [],
   "source": []
  },
  {
   "cell_type": "markdown",
   "metadata": {},
   "source": [
    "12. Create a function that prints prime number from 0 to 100. "
   ]
  },
  {
   "cell_type": "code",
   "execution_count": 26,
   "metadata": {},
   "outputs": [
    {
     "name": "stdout",
     "output_type": "stream",
     "text": [
      "55\n",
      "55\n"
     ]
    }
   ],
   "source": [
    "def primetime(x):\n",
    "    count = 0\n",
    "    if x > 1:\n",
    "        for i in range(2, x//2):\n",
    "            if (x % i) == 0:\n",
    "                print(x)\n",
    "                counter = count + 1\n",
    "            \n",
    "primetime(55)"
   ]
  },
  {
   "cell_type": "markdown",
   "metadata": {},
   "source": [
    "13. Now's your chance to show off. Create a function that does something that has not already been done in the homework. Get creative. "
   ]
  },
  {
   "cell_type": "code",
   "execution_count": 27,
   "metadata": {},
   "outputs": [
    {
     "name": "stdout",
     "output_type": "stream",
     "text": [
      "47 in human years\n"
     ]
    }
   ],
   "source": [
    "def dog_years(dog_age):\n",
    "    if dog_age <= 1:\n",
    "        print('~1-15 in human years')\n",
    "    elif dog_age == 2:\n",
    "        print('24 in human years')\n",
    "    elif dog_age >= 3:\n",
    "        new_age = (dog_age * 5) + 22\n",
    "        print(new_age, 'in human years')\n",
    "        \n",
    "dog_years(5)"
   ]
  },
  {
   "cell_type": "markdown",
   "metadata": {},
   "source": [
    "14. Add an attribute called `age` to the `__init__` method of the `Person` class.\n",
    "\n",
    "Create an instance of `Person()` and print the `age`."
   ]
  },
  {
   "cell_type": "code",
   "execution_count": 12,
   "metadata": {},
   "outputs": [
    {
     "name": "stdout",
     "output_type": "stream",
     "text": [
      "38\n"
     ]
    }
   ],
   "source": [
    "class Person():\n",
    "    \n",
    "    def __init__(self, name, occupation, country, age):\n",
    "        self.name = name\n",
    "        self.occupation = occupation\n",
    "        self.country = country\n",
    "        # you attribute goes here\n",
    "        self.age = age\n",
    "        \n",
    "person_1 = Person('Ashley','screen printer','United States','38')\n",
    "\n",
    "print(person_1.age)\n",
    "    "
   ]
  },
  {
   "cell_type": "markdown",
   "metadata": {},
   "source": [
    "15. Creat an instance of the class `Candy`. \n",
    "\n",
    "Add an attribute called `cost` on your instance. (Don't modify the class starter code.)\n",
    "\n",
    "Print the instance's `cost` attribute.\n",
    "\n",
    "Bonus(optional): Add a function of your choice to the instance. "
   ]
  },
  {
   "cell_type": "code",
   "execution_count": 8,
   "metadata": {},
   "outputs": [],
   "source": [
    "class Candy():\n",
    "    \n",
    "    def __init__(self, kind='chocolate', brand= 'Nestle', caramel = False):\n",
    "        self.type = kind\n",
    "        self.brand = brand\n",
    "        self.caramel = caramel\n",
    "        "
   ]
  },
  {
   "cell_type": "code",
   "execution_count": 28,
   "metadata": {},
   "outputs": [
    {
     "name": "stdout",
     "output_type": "stream",
     "text": [
      "2.5\n"
     ]
    }
   ],
   "source": [
    "class Candy():\n",
    "    \n",
    "    def __init__(self, kind='chocolate', brand= 'Nestle', caramel = False):\n",
    "        self.type = kind\n",
    "        self.brand = brand\n",
    "        self.caramel = caramel\n",
    "        \n",
    "bar1 = Candy('white', 'worlds finest', True)               \n",
    "bar1.cost = 2.50     \n",
    "\n",
    "print(bar1.cost)"
   ]
  },
  {
   "cell_type": "markdown",
   "metadata": {},
   "source": [
    "16. Add an instance method to our class `Greet` that prints a greeting including `greeting` and the `name`. \n",
    "\n",
    "Example:\n",
    "\n",
    "`jen = Greet()`\n",
    "\n",
    "`jen.greet_method()` returns `\"Hello Jennifer\"`\n"
   ]
  },
  {
   "cell_type": "code",
   "execution_count": 15,
   "metadata": {},
   "outputs": [
    {
     "name": "stdout",
     "output_type": "stream",
     "text": [
      "Hello , my name is Jennifer\n"
     ]
    }
   ],
   "source": [
    "class Greet():\n",
    "    \n",
    "    def __init__(self, name='Jennifer', language='english', greeting=\"Hello\"):\n",
    "        \n",
    "        self.language = language\n",
    "        self.greeting = greeting\n",
    "        self.name = name\n",
    "        \n",
    "    # Your method here\n",
    "    def introduction(self):\n",
    "        return '{} {} {}'.format(self.greeting, ', my name is', self.name)\n",
    "        \n",
    "Jen = Greet()\n",
    "        \n",
    "print(Jen.introduction())"
   ]
  },
  {
   "cell_type": "markdown",
   "metadata": {},
   "source": [
    "17. Add a line to the follwing code that will increment `employee_count` by 1 for **all** instances of `Employee`.\n",
    "\n",
    "The code should run each time an new instance of`Employee` is created. \n",
    "\n",
    "Hint: You don't need methods. Just a single expression will work. And it does NOT inlcude the word `self`. "
   ]
  },
  {
   "cell_type": "code",
   "execution_count": 16,
   "metadata": {},
   "outputs": [
    {
     "name": "stdout",
     "output_type": "stream",
     "text": [
      "1\n",
      "2\n"
     ]
    }
   ],
   "source": [
    "class Employee():\n",
    "    \n",
    "    # class variables. Applies to all instances of this class during creation.\n",
    "    yearly_bonus = 1.01 # not used anywhere in this example\n",
    "    \n",
    "    employee_count = 0 # This variable will change for all instances of the class.\n",
    "    \n",
    "       \n",
    "    def __init__(self,name, age, base_pay): # creates an instance of our object with unique attributes\n",
    "        \n",
    "        self.name = name\n",
    "        self.age = age\n",
    "        self.base_pay = base_pay\n",
    "        \n",
    "        \n",
    "        # your code here inside the __init__ method. \n",
    "        Employee.employee_count +=1\n",
    "        \n",
    "emp1 = Employee('Matt', 32,40000)\n",
    "print(emp1.employee_count) # should be 1 if the __init__ method is working properly. \n",
    "\n",
    "emp2 = emp1 = Employee('Joe', 22,50000) # should be 2 if the __init__ method is working properly. \n",
    "print(emp2.employee_count)\n",
    "\n"
   ]
  },
  {
   "cell_type": "markdown",
   "metadata": {},
   "source": [
    "18 . Add a `static` method of your choice to the class below. \n",
    "\n",
    "Instaiate an object and call your method. \n",
    "\n",
    "What is a static method anyway? \n"
   ]
  },
  {
   "cell_type": "code",
   "execution_count": 17,
   "metadata": {},
   "outputs": [
    {
     "name": "stdout",
     "output_type": "stream",
     "text": [
      "Meryl Streep: This is my line...\n",
      "Yay! You win the Oscars!\n"
     ]
    }
   ],
   "source": [
    "class actress():\n",
    "    def __init__(self, name = 'Meryl Streep'):\n",
    "        self.name = name\n",
    "        \n",
    "    def act(self, line):\n",
    "        print(f'{self.name}: {line}')\n",
    "        \n",
    "    # your static method goes here.\n",
    "    @staticmethod\n",
    "    def stat_meth_ex():\n",
    "        print(\"Yay! You win the Oscars!\")\n",
    "        \n",
    "meryl = actress()\n",
    "meryl.act('This is my line...')\n",
    "actress.stat_meth_ex()"
   ]
  },
  {
   "cell_type": "code",
   "execution_count": null,
   "metadata": {},
   "outputs": [],
   "source": [
    "# Static method is more restrictive to just this class which can be helpful for the person writing the code. \n",
    "#Because it restricts what Python can run, it allows fewer mistakes. "
   ]
  },
  {
   "cell_type": "markdown",
   "metadata": {},
   "source": [
    "19. Create a `class` called Car that accepts 3 attributes (make, model and year). \n",
    "\n",
    "In the `__init__` method give your instance those three attributes. \n",
    "\n",
    "Instantiate (create) an object that is your dream car. \n",
    "\n",
    "Print the make of your dream car using the object attributes. \n",
    "\n",
    "Then call the dir() method on your new object. (See your attrs are now included!)"
   ]
  },
  {
   "cell_type": "code",
   "execution_count": 18,
   "metadata": {},
   "outputs": [
    {
     "name": "stdout",
     "output_type": "stream",
     "text": [
      "2022\n"
     ]
    },
    {
     "data": {
      "text/plain": [
       "['__class__',\n",
       " '__delattr__',\n",
       " '__dict__',\n",
       " '__dir__',\n",
       " '__doc__',\n",
       " '__eq__',\n",
       " '__format__',\n",
       " '__ge__',\n",
       " '__getattribute__',\n",
       " '__gt__',\n",
       " '__hash__',\n",
       " '__init__',\n",
       " '__init_subclass__',\n",
       " '__le__',\n",
       " '__lt__',\n",
       " '__module__',\n",
       " '__ne__',\n",
       " '__new__',\n",
       " '__reduce__',\n",
       " '__reduce_ex__',\n",
       " '__repr__',\n",
       " '__setattr__',\n",
       " '__sizeof__',\n",
       " '__str__',\n",
       " '__subclasshook__',\n",
       " '__weakref__',\n",
       " 'make',\n",
       " 'model',\n",
       " 'year']"
      ]
     },
     "execution_count": 18,
     "metadata": {},
     "output_type": "execute_result"
    }
   ],
   "source": [
    "class Car():\n",
    "    def __init__(self, make, model, year):\n",
    "            self.make = make\n",
    "            self.model = model\n",
    "            self.year = year\n",
    "            \n",
    "dream_car = Car('Jeep','Wrangler','2022')\n",
    "print(dream_car.year)\n",
    "dir(dream_car)"
   ]
  },
  {
   "cell_type": "markdown",
   "metadata": {},
   "source": [
    "20. Create a class called `Dice` that accepts a single argument called `number_of_dice`. \n",
    "\n",
    "Create an instance method called `roll`. \n",
    "\n",
    "`roll` should randomly pick a number for each die when called and print the results as a list. \n",
    "\n",
    "Create an instance of `Dice`. Then call `roll()` on your instance.\n",
    "\n",
    "Hint: Inside your class create an empty list called `dice`."
   ]
  },
  {
   "cell_type": "code",
   "execution_count": 12,
   "metadata": {},
   "outputs": [
    {
     "name": "stdout",
     "output_type": "stream",
     "text": [
      "3\n"
     ]
    }
   ],
   "source": [
    "# Helpful starter code\n",
    "from random import randrange\n",
    "\n",
    "print(randrange(1,7)) # randomly generates a number between 1 and 6"
   ]
  },
  {
   "cell_type": "code",
   "execution_count": 41,
   "metadata": {},
   "outputs": [
    {
     "ename": "NameError",
     "evalue": "name 'number_of_dice' is not defined",
     "output_type": "error",
     "traceback": [
      "\u001b[0;31m---------------------------------------------------------------------------\u001b[0m",
      "\u001b[0;31mNameError\u001b[0m                                 Traceback (most recent call last)",
      "\u001b[0;32m/var/folders/zx/rtlkvk155rx_pz72fst65zhh0000gn/T/ipykernel_25352/384801170.py\u001b[0m in \u001b[0;36m<module>\u001b[0;34m\u001b[0m\n\u001b[1;32m      8\u001b[0m     \u001b[0mDice\u001b[0m \u001b[0;34m=\u001b[0m \u001b[0;34m[\u001b[0m\u001b[0;34m]\u001b[0m\u001b[0;34m\u001b[0m\u001b[0;34m\u001b[0m\u001b[0m\n\u001b[1;32m      9\u001b[0m \u001b[0;34m\u001b[0m\u001b[0m\n\u001b[0;32m---> 10\u001b[0;31m \u001b[0mDice\u001b[0m\u001b[0;34m.\u001b[0m\u001b[0mroll\u001b[0m\u001b[0;34m[\u001b[0m\u001b[0mnumber_of_dice\u001b[0m\u001b[0;34m]\u001b[0m\u001b[0;34m\u001b[0m\u001b[0;34m\u001b[0m\u001b[0m\n\u001b[0m",
      "\u001b[0;31mNameError\u001b[0m: name 'number_of_dice' is not defined"
     ]
    }
   ],
   "source": [
    "class Dice():\n",
    "    def __init__(self, number_of_dice):\n",
    "        self.number_of_dice = number_of_dice\n",
    "        \n",
    "    def roll(self):\n",
    "        print(randrange(1,7))\n",
    "        \n",
    "    Dice = []\n",
    "    \n",
    "Dice.roll[number_of_dice]"
   ]
  },
  {
   "cell_type": "markdown",
   "metadata": {},
   "source": [
    "Bonus(optional):\n",
    "\n",
    "0. Create a class of your choice.\n",
    "1. Give it instance variables and class variables. \n",
    "2. Give it a classmethod. \n",
    "3. Give it a regular method (instance method).\n",
    "4. Give it a static method. \n",
    "\n",
    "Show how each works by printing an example. "
   ]
  },
  {
   "cell_type": "code",
   "execution_count": null,
   "metadata": {},
   "outputs": [],
   "source": []
  }
 ],
 "metadata": {
  "kernelspec": {
   "display_name": "Python 3 (ipykernel)",
   "language": "python",
   "name": "python3"
  },
  "language_info": {
   "codemirror_mode": {
    "name": "ipython",
    "version": 3
   },
   "file_extension": ".py",
   "mimetype": "text/x-python",
   "name": "python",
   "nbconvert_exporter": "python",
   "pygments_lexer": "ipython3",
   "version": "3.9.7"
  }
 },
 "nbformat": 4,
 "nbformat_minor": 4
}
