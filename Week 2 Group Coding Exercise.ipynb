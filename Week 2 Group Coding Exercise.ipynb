{
 "cells": [
  {
   "cell_type": "code",
   "execution_count": 2,
   "id": "af458bdc",
   "metadata": {},
   "outputs": [
    {
     "name": "stdout",
     "output_type": "stream",
     "text": [
      "Enter a number:3\n",
      "Weird\n"
     ]
    }
   ],
   "source": [
    "n = int(input(\"Enter a number:\"))\n",
    "\n",
    "if n % 2 ==1:\n",
    "    print(\"Weird\")\n",
    "elif n % 2 ==0 and n in range(2,6):\n",
    "    print(\"Not Weird\")\n",
    "elif n % 2 ==0 and n in range(6,21):\n",
    "    print(\"Weird\")\n",
    "elif n % 2 ==0:\n",
    "    if n > 20 and n < 100:\n",
    "        print(\"Not Weird\")"
   ]
  },
  {
   "cell_type": "code",
   "execution_count": 3,
   "id": "4c49f4c2",
   "metadata": {},
   "outputs": [
    {
     "name": "stdout",
     "output_type": "stream",
     "text": [
      "Enter a number:24\n",
      "Not Weird\n"
     ]
    }
   ],
   "source": [
    "n = int(input(\"Enter a number:\"))\n",
    "\n",
    "if n % 2 ==1:\n",
    "    print(\"Weird\")\n",
    "elif n % 2 ==0 and n in range(2,6):\n",
    "    print(\"Not Weird\")\n",
    "elif n % 2 ==0 and n in range(6,21):\n",
    "    print(\"Weird\")\n",
    "elif n % 2 ==0:\n",
    "    if n > 20 and n < 100:\n",
    "        print(\"Not Weird\")"
   ]
  },
  {
   "cell_type": "code",
   "execution_count": null,
   "id": "1520792d",
   "metadata": {},
   "outputs": [],
   "source": []
  }
 ],
 "metadata": {
  "kernelspec": {
   "display_name": "Python 3 (ipykernel)",
   "language": "python",
   "name": "python3"
  },
  "language_info": {
   "codemirror_mode": {
    "name": "ipython",
    "version": 3
   },
   "file_extension": ".py",
   "mimetype": "text/x-python",
   "name": "python",
   "nbconvert_exporter": "python",
   "pygments_lexer": "ipython3",
   "version": "3.9.7"
  }
 },
 "nbformat": 4,
 "nbformat_minor": 5
}
